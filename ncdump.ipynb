{
 "cells": [
  {
   "cell_type": "code",
   "execution_count": null,
   "metadata": {},
   "outputs": [],
   "source": [
    "from aiida import load_profile, orm\n",
    "load_profile();\n",
    "import urllib.parse as urlparse"
   ]
  },
  {
   "cell_type": "code",
   "execution_count": null,
   "metadata": {},
   "outputs": [],
   "source": [
    "url = urlparse.urlsplit(jupyter_notebook_url)\n",
    "url_dict = urlparse.parse_qs(url.query)\n",
    "if 'id' in url_dict:\n",
    "    pk = int(url_dict['id'][0])\n",
    "    node = orm.load_node(pk)\n",
    "else:\n",
    "    node = None\n",
    "print('Loaded node:', node)"
   ]
  },
  {
   "cell_type": "code",
   "execution_count": null,
   "metadata": {},
   "outputs": [],
   "source": [
    "if node:\n",
    "    node.ncdump()\n",
    "else:\n",
    "    print('None')"
   ]
  }
 ],
 "metadata": {
  "language_info": {
   "name": "python"
  }
 },
 "nbformat": 4,
 "nbformat_minor": 2
}
