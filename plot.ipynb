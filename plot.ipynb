{
 "cells": [
  {
   "cell_type": "code",
   "execution_count": 1,
   "metadata": {},
   "outputs": [],
   "source": [
    "from aiida import load_profile, orm\n",
    "load_profile();\n",
    "\n",
    "from ipywidgets import interact, interactive, fixed, interact_manual\n",
    "import ipywidgets as widgets\n",
    "from IPython.display import display, Image, clear_output\n",
    "\n",
    "import matplotlib.pyplot as plt\n",
    "#from mpl_toolkits.basemap import Basemap\n",
    "import numpy as np\n",
    "from aiida.plugins import DataFactory\n",
    "\n",
    "import os\n",
    "import urllib.parse as urlparse"
   ]
  },
  {
   "cell_type": "code",
   "execution_count": 2,
   "metadata": {},
   "outputs": [],
   "source": [
    "NetCDF = DataFactory(\"netcdf.data\")"
   ]
  },
  {
   "cell_type": "markdown",
   "metadata": {},
   "source": [
    "# Plots page\n"
   ]
  },
  {
   "cell_type": "markdown",
   "metadata": {},
   "source": [
    "### Loading data"
   ]
  },
  {
   "cell_type": "code",
   "execution_count": 3,
   "metadata": {},
   "outputs": [
    {
     "name": "stdout",
     "output_type": "stream",
     "text": [
      "Loaded node: None\n"
     ]
    }
   ],
   "source": [
    "url = urlparse.urlsplit(jupyter_notebook_url)\n",
    "url_dict = urlparse.parse_qs(url.query)\n",
    "if 'id' in url_dict:\n",
    "    pk = int(url_dict['id'][0])\n",
    "    node = orm.load_node(pk)\n",
    "else:\n",
    "    node = None\n",
    "print('Loaded node:', node)"
   ]
  },
  {
   "cell_type": "code",
   "execution_count": null,
   "metadata": {},
   "outputs": [],
   "source": [
    "destination_path='/home/jovyan/output_files/grid_time_20201002000000.nc'\n",
    "with o"
   ]
  },
  {
   "cell_type": "code",
   "execution_count": 5,
   "metadata": {},
   "outputs": [
    {
     "ename": "OSError",
     "evalue": "[Errno -51] NetCDF: Unknown file format: '/home/jovyan/output_files/surface_footprint_2020100303.png'",
     "output_type": "error",
     "traceback": [
      "\u001b[0;31m---------------------------------------------------------------------------\u001b[0m",
      "\u001b[0;31mOSError\u001b[0m                                   Traceback (most recent call last)",
      "\u001b[0;32m/tmp/ipykernel_24078/161851444.py\u001b[0m in \u001b[0;36m<cell line: 2>\u001b[0;34m()\u001b[0m\n\u001b[1;32m      1\u001b[0m \u001b[0mdestination_path\u001b[0m\u001b[0;34m=\u001b[0m\u001b[0;34m'/home/jovyan/output_files/grid_time_20201002000000.nc'\u001b[0m\u001b[0;34m\u001b[0m\u001b[0;34m\u001b[0m\u001b[0m\n\u001b[0;32m----> 2\u001b[0;31m \u001b[0mnode_test\u001b[0m \u001b[0;34m=\u001b[0m \u001b[0mNetCDF\u001b[0m\u001b[0;34m(\u001b[0m\u001b[0;34m'/home/jovyan/output_files/surface_footprint_2020100303.png'\u001b[0m\u001b[0;34m)\u001b[0m\u001b[0;34m\u001b[0m\u001b[0;34m\u001b[0m\u001b[0m\n\u001b[0m\u001b[1;32m      3\u001b[0m \u001b[0mnode_test\u001b[0m\u001b[0;34m.\u001b[0m\u001b[0mstore\u001b[0m\u001b[0;34m(\u001b[0m\u001b[0;34m)\u001b[0m\u001b[0;34m\u001b[0m\u001b[0;34m\u001b[0m\u001b[0m\n",
      "\u001b[0;32m~/work/aiida-flexpart/aiida_flexpart/data/nc_data.py\u001b[0m in \u001b[0;36m__init__\u001b[0;34m(self, filepath, **kwargs)\u001b[0m\n\u001b[1;32m     76\u001b[0m         \"\"\"\n\u001b[1;32m     77\u001b[0m \u001b[0;34m\u001b[0m\u001b[0m\n\u001b[0;32m---> 78\u001b[0;31m         \u001b[0mnc_file\u001b[0m \u001b[0;34m=\u001b[0m \u001b[0mDataset\u001b[0m\u001b[0;34m(\u001b[0m\u001b[0mfilepath\u001b[0m\u001b[0;34m,\u001b[0m \u001b[0mmode\u001b[0m\u001b[0;34m=\u001b[0m\u001b[0;34m'r'\u001b[0m\u001b[0;34m)\u001b[0m\u001b[0;34m\u001b[0m\u001b[0;34m\u001b[0m\u001b[0m\n\u001b[0m\u001b[1;32m     79\u001b[0m \u001b[0;34m\u001b[0m\u001b[0m\n\u001b[1;32m     80\u001b[0m         \u001b[0msuper\u001b[0m\u001b[0;34m(\u001b[0m\u001b[0;34m)\u001b[0m\u001b[0;34m.\u001b[0m\u001b[0m__init__\u001b[0m\u001b[0;34m(\u001b[0m\u001b[0;34m**\u001b[0m\u001b[0mkwargs\u001b[0m\u001b[0;34m)\u001b[0m\u001b[0;34m\u001b[0m\u001b[0;34m\u001b[0m\u001b[0m\n",
      "\u001b[0;32msrc/netCDF4/_netCDF4.pyx\u001b[0m in \u001b[0;36mnetCDF4._netCDF4.Dataset.__init__\u001b[0;34m()\u001b[0m\n",
      "\u001b[0;32msrc/netCDF4/_netCDF4.pyx\u001b[0m in \u001b[0;36mnetCDF4._netCDF4._ensure_nc_success\u001b[0;34m()\u001b[0m\n",
      "\u001b[0;31mOSError\u001b[0m: [Errno -51] NetCDF: Unknown file format: '/home/jovyan/output_files/surface_footprint_2020100303.png'"
     ]
    }
   ],
   "source": [
    "node_test = NetCDF('/home/jovyan/output_files/surface_footprint_2020100303.png')\n",
    "node_test.store()"
   ]
  },
  {
   "cell_type": "code",
   "execution_count": 18,
   "metadata": {
    "scrolled": true
   },
   "outputs": [],
   "source": [
    "#node_test.attributes['global_attributes']"
   ]
  },
  {
   "cell_type": "code",
   "execution_count": 17,
   "metadata": {},
   "outputs": [],
   "source": [
    "#qb = orm.QueryBuilder()\n",
    "#qb.append(NetCDF, \n",
    "#          project=[\"attributes.global_attributes\"],\n",
    "#          filters = {\"attributes.global_attributes.ifine\":'4'})\n",
    "#qb.all()"
   ]
  },
  {
   "cell_type": "code",
   "execution_count": null,
   "metadata": {},
   "outputs": [],
   "source": [
    "%matplotlib notebook\n",
    "import matplotlib.pyplot as plt\n",
    "from matplotlib.animation import FuncAnimation\n",
    "\n",
    "nframes = len(pic_files)\n",
    "plt.subplots_adjust(top=1, bottom=0, left=0, right=1)\n",
    "\n",
    "def animate(i):\n",
    "    im = plt.imread(destination_path+pic_files[i])\n",
    "    plt.imshow(im)\n",
    "if pic_files:\n",
    "    anim = FuncAnimation(plt.gcf(), animate, frames=nframes, \n",
    "                     interval=(200.0/nframes))"
   ]
  },
  {
   "cell_type": "code",
   "execution_count": null,
   "metadata": {},
   "outputs": [],
   "source": [
    "def map_gen(hour,vmin = 0,vmax= 2,cmap = 'nipy_spectral_r',g=0):\n",
    "    \n",
    "    data_nest = Dataset(destination_path+g, mode='r')\n",
    "    spec = data_nest.variables['spec001'][:].data\n",
    "    \n",
    "    release_long = data_nest.variables['RELLNG1'][:].data\n",
    "    release_lat = data_nest.variables['RELLAT1'][:].data\n",
    "    \n",
    "    fig=plt.figure(figsize=(15, 10))\n",
    "    m.drawcoastlines(color='black',linewidth=0.2)\n",
    "    m.drawcountries(color='gray',linewidth=0.2)\n",
    "    \n",
    "    parallels = np.arange(50.,75.,10.)\n",
    "    m.drawparallels(np.arange(0,70,5),labels=[1,0,1,1], linewidth=0.5, fontsize=7)\n",
    "    m.drawmeridians(np.arange(-50,60,10),labels=[1,1,0,1], linewidth=0.5, fontsize=7)\n",
    "    \n",
    "    #x0, y0 = m(release_long, release_lat)\n",
    "    #x1, y1 = m(30., 90.)\n",
    "   \n",
    "    scheme=m.imshow(np.squeeze(spec[0,hour,:,:]),#extent=(x0, x1, y0, y1),\n",
    "               vmin = vmin, \n",
    "               vmax = vmax, \n",
    "               cmap = cmap)\n",
    "    \n",
    "    #release location\n",
    "    lons, lats = m(release_long, release_lat)\n",
    "    m.scatter(lons, lats, marker = '+', color='black')\n",
    "    \n",
    "    #titles and labels\n",
    "    plt.title('Title')\n",
    "    plt.ylabel('Latitude',labelpad=30)\n",
    "    plt.xlabel('Longitude',labelpad=15)\n",
    "    m.colorbar(scheme,label='label',pad = '4%',size=\"2%\")\n",
    "    \n",
    "#m = Basemap(projection='merc', resolution='l',\n",
    "             #llcrnrlon=-40,   # lower longitude\n",
    "             #llcrnrlat=10,    # lower latitude\n",
    "             #urcrnrlon=70,   # uppper longitude\n",
    "             #urcrnrlat=70,   # uppper latitude\n",
    "            #)\n",
    "\n",
    "#interactive_plot = interactive(map_gen, \n",
    "                               #hour=(0,7), \n",
    "                               #vmin=(-20,2),\n",
    "                               #vmax=(2,10),\n",
    "                               #cmap = ['jet','CMRmap_r','nipy_spectral_r','gist_heat_r'],\n",
    "                               #g = [grid,grid_nest])\n",
    "#output = interactive_plot.children[-1]\n",
    "#output.layout.height = '800px'\n",
    "#interactive_plot"
   ]
  }
 ],
 "metadata": {
  "kernelspec": {
   "display_name": "Python 3 (ipykernel)",
   "language": "python",
   "name": "python3"
  },
  "language_info": {
   "codemirror_mode": {
    "name": "ipython",
    "version": 3
   },
   "file_extension": ".py",
   "mimetype": "text/x-python",
   "name": "python",
   "nbconvert_exporter": "python",
   "pygments_lexer": "ipython3",
   "version": "3.9.13"
  }
 },
 "nbformat": 4,
 "nbformat_minor": 2
}
