{
 "cells": [
  {
   "cell_type": "code",
   "execution_count": 17,
   "metadata": {},
   "outputs": [],
   "source": [
    "from aiida import load_profile, orm\n",
    "load_profile();\n",
    "\n",
    "from ipywidgets import interact, interactive, fixed, interact_manual\n",
    "import ipywidgets as widgets\n",
    "from IPython.display import display, Image, clear_output\n",
    "\n",
    "import matplotlib.pyplot as plt\n",
    "import numpy as np\n",
    "from aiida.plugins import DataFactory\n",
    "\n",
    "import os\n",
    "import tempfile\n",
    "from pathlib import Path\n",
    "import urllib.parse as urlparse"
   ]
  },
  {
   "cell_type": "markdown",
   "metadata": {},
   "source": [
    "# Surface footprints"
   ]
  },
  {
   "cell_type": "markdown",
   "metadata": {},
   "source": [
    "### Loading data"
   ]
  },
  {
   "cell_type": "code",
   "execution_count": 3,
   "metadata": {},
   "outputs": [
    {
     "name": "stdout",
     "output_type": "stream",
     "text": [
      "Loaded node: None\n"
     ]
    }
   ],
   "source": [
    "url = urlparse.urlsplit(jupyter_notebook_url)\n",
    "url_dict = urlparse.parse_qs(url.query)\n",
    "if 'id' in url_dict:\n",
    "    pk = int(url_dict['id'][0])\n",
    "    node = orm.load_node(pk)\n",
    "else:\n",
    "    node = None\n",
    "print('Loaded node:', node)"
   ]
  },
  {
   "cell_type": "code",
   "execution_count": 16,
   "metadata": {},
   "outputs": [],
   "source": [
    "pic_files = [i for i in node.list_object_names() if '.png' in i]\n",
    "for i in pic_files:\n",
    "    print(i,'\\n')"
   ]
  },
  {
   "cell_type": "code",
   "execution_count": null,
   "metadata": {},
   "outputs": [],
   "source": [
    "#Buttons def \n",
    "next_button = widgets.Button(description='Next',\n",
    "                             button_style='info',\n",
    "                             icon='arrow-right')\n",
    "pre_button = widgets.Button(description='Previous',\n",
    "                            button_style='info',\n",
    "                            icon='arrow-left')\n",
    "box = widgets.HBox(children = [pre_button,next_button])"
   ]
  },
  {
   "cell_type": "code",
   "execution_count": null,
   "metadata": {},
   "outputs": [],
   "source": [
    "def show_pic(i):    \n",
    "    with tempfile.TemporaryDirectory() as td:\n",
    "    \n",
    "        node.copy_tree(Path(td))\n",
    "        plt.subplots_adjust(top=1, bottom=0, left=0, right=1)\n",
    "            \n",
    "        if pic_files: \n",
    "            im = plt.imread(Path(td)/pic_files[i])\n",
    "            plt.imshow(im)\n",
    "\n",
    "        else:\n",
    "            print('No images available.')"
   ]
  },
  {
   "cell_type": "markdown",
   "metadata": {},
   "source": [
    "### Show data"
   ]
  },
  {
   "cell_type": "code",
   "execution_count": null,
   "metadata": {},
   "outputs": [],
   "source": [
    "output = widgets.Output()\n",
    "display(box,output)\n",
    "show_pic(0)\n",
    "i = 0\n",
    "def next_clicked(b):\n",
    "    global i\n",
    "    i+=1\n",
    "    with output:\n",
    "         clear_output()\n",
    "         show_pic(i)\n",
    "        \n",
    "def pre_clicked(b):\n",
    "    global i\n",
    "    i-=1\n",
    "    with output:\n",
    "         clear_output()\n",
    "         show_pic(i)\n",
    "\n",
    "next_button.on_click(next_clicked)\n",
    "pre_button.on_click(pre_clicked)"
   ]
  }
 ],
 "metadata": {
  "kernelspec": {
   "display_name": "Python 3 (ipykernel)",
   "language": "python",
   "name": "python3"
  },
  "language_info": {
   "codemirror_mode": {
    "name": "ipython",
    "version": 3
   },
   "file_extension": ".py",
   "mimetype": "text/x-python",
   "name": "python",
   "nbconvert_exporter": "python",
   "pygments_lexer": "ipython3",
   "version": "3.9.13"
  }
 },
 "nbformat": 4,
 "nbformat_minor": 2
}
