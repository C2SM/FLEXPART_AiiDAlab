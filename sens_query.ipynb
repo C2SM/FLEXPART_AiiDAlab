{
 "cells": [
  {
   "cell_type": "code",
   "execution_count": null,
   "metadata": {},
   "outputs": [],
   "source": [
    "from aiida import load_profile\n",
    "load_profile();\n",
    "import ipywidgets as widgets\n",
    "from IPython.display import display\n",
    "from aiida.orm import QueryBuilder\n",
    "from widgets import sens_query\n",
    "import aiidalab_widgets_base as awb\n",
    "from aiida import orm,plugins\n",
    "from widgets import locations\n",
    "\n",
    "NetCDF = plugins.DataFactory('netcdf.data')\n",
    "w_inspect = plugins.WorkflowFactory('inspect.workflow')\n",
    "cs = plugins.CalculationFactory(\"collect.sens\")\n",
    "base_address = '/project/s1152/shenne/PARIS/NAME_footprints/EUROPE/'"
   ]
  },
  {
   "cell_type": "markdown",
   "metadata": {},
   "source": [
    "# Title"
   ]
  },
  {
   "cell_type": "markdown",
   "metadata": {},
   "source": [
    "### Inspect"
   ]
  },
  {
   "cell_type": "markdown",
   "metadata": {},
   "source": [
    "Base address: /project/s1152/shenne/PARIS/NAME_footprints/EUROPE/"
   ]
  },
  {
   "cell_type": "code",
   "execution_count": null,
   "metadata": {},
   "outputs": [],
   "source": [
    "style = {\"description_width\": \"initial\"}\n",
    "\n",
    "address = widgets.Text(\n",
    "            value = 'LUT-60magl/inert',\n",
    "            description=\"Remote address\",\n",
    "            style=style,\n",
    "        )\n",
    "def prepare_inspect():\n",
    "    computer = orm.load_computer(label='daint')\n",
    "    remote_path = orm.RemoteData(remote_path = base_address+address.value,\n",
    "                             computer = computer)\n",
    "    remote_path_2 = orm.RemoteData(remote_path = base_address+'OPE-120magl/inert',\n",
    "                             computer = computer)\n",
    "    builder = w_inspect.get_builder()\n",
    "    builder.remotes = {'a':remote_path,}\n",
    "                      #'b':remote_path_2}\n",
    "    return builder\n",
    "\n",
    "btn_submit_1 = awb.SubmitButtonWidget(\n",
    "    w_inspect,\n",
    "    inputs_generator = prepare_inspect,\n",
    "    disable_after_submit = False,\n",
    "    append_output = True,\n",
    ")\n",
    "btn_submit_1.btn_submit.button_style=\"info\"\n",
    "btn_submit_1.btn_submit.description=\"Launch inspect\"\n",
    "\n",
    "line_h = widgets.HTML(\n",
    "            value=\"\"\"<hr>\n",
    "            \"\"\"\n",
    "        )\n",
    "info_text = widgets.HTML(\n",
    "            value=\"\"\"Find for nc lise in stash folder of previous \n",
    "            Collect sensitivities calclations.\n",
    "            \"\"\"\n",
    "        )\n",
    "\n",
    "def prepare_inspect_cs():\n",
    "    qb = orm.QueryBuilder()\n",
    "    qb.append(cs, tag=\"cs\", filters={\"attributes.exit_status\": 0})\n",
    "    qb.append(orm.RemoteStashFolderData, with_incoming=\"cs\", project=\"*\")\n",
    "    builder = w_inspect.get_builder()\n",
    "    print({f'test_{j}':i[0] for j,i in enumerate(qb.all())})\n",
    "    directories_ = {f'test_{j}':i[0] for j,i in enumerate(qb.all())}\n",
    "    if directories_:\n",
    "        builder.remotes_cs = directories_\n",
    "        return builder\n",
    "    else:\n",
    "        print('No files found.')\n",
    "\n",
    "\n",
    "\n",
    "btn_submit_2 = awb.SubmitButtonWidget(\n",
    "    w_inspect,\n",
    "    inputs_generator = prepare_inspect_cs,\n",
    "    disable_after_submit = False,\n",
    "    append_output = True,\n",
    ")\n",
    "btn_submit_2.btn_submit.button_style=\"success\"\n",
    "btn_submit_2.btn_submit.description=\"Launch CS inspect\"\n",
    "\n",
    "acc = widgets.Accordion(\n",
    "            children=[\n",
    "                 widgets.VBox(\n",
    "                    children=[\n",
    "                address,\n",
    "                btn_submit_1,\n",
    "                line_h,\n",
    "                info_text,\n",
    "                btn_submit_2\n",
    "                    ])\n",
    "            ],\n",
    "        )\n",
    "acc.set_title(0, \"Inspect\")\n",
    "acc.selected_index = None\n",
    "acc"
   ]
  },
  {
   "cell_type": "markdown",
   "metadata": {},
   "source": [
    "###  Search"
   ]
  },
  {
   "cell_type": "code",
   "execution_count": null,
   "metadata": {},
   "outputs": [],
   "source": [
    "sq = sens_query.SearchSens()\n",
    "sq"
   ]
  }
 ],
 "metadata": {
  "language_info": {
   "name": "python"
  }
 },
 "nbformat": 4,
 "nbformat_minor": 2
}
